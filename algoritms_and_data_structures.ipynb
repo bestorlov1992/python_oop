{
 "cells": [
  {
   "cell_type": "markdown",
   "metadata": {},
   "source": [
    "алгоритмы балакирев гит хаб  \n",
    "https://github.com/selfedu-rus/python-algorithms/tree/master"
   ]
  },
  {
   "cell_type": "markdown",
   "metadata": {},
   "source": [
    "если мы вставляем или удаляем элемент с конца списка, то сложность O(1)  \n",
    "но если мы вставляем в начало или удаляем с начала, то сложность O(n)  \n",
    "так как после удаления или перед вставкой нужно сдвинуть элементы,  \n",
    "поэтому так лучше не делать, либо добавлять и удалять с конца,  \n",
    "либо использовать очередь, например deque"
   ]
  },
  {
   "cell_type": "code",
   "execution_count": 6,
   "metadata": {},
   "outputs": [
    {
     "data": {
      "text/plain": [
       "3"
      ]
     },
     "execution_count": 6,
     "metadata": {},
     "output_type": "execute_result"
    }
   ],
   "source": [
    "l = [1,2,3,4,5]\n",
    "# так норм\n",
    "l.append(3)\n",
    "l.pop()\n",
    "# но так будет медленно\n",
    "l.insert(0, 3)\n",
    "l.pop(0)"
   ]
  },
  {
   "cell_type": "markdown",
   "metadata": {},
   "source": [
    "Queue on python"
   ]
  },
  {
   "cell_type": "code",
   "execution_count": null,
   "metadata": {},
   "outputs": [],
   "source": [
    "from collections import deque\n",
    "\n",
    "dq = deque(range(1, 10))\n",
    "dq.append(12)\n",
    "dq.appendleft(-1)\n",
    "try:\n",
    "    dq.pop()\n",
    "    dq.popleft()\n",
    "except IndexError as ex:\n",
    "    print(ex)\n",
    "dq.extend([22, 33, 44])\n",
    "dq.extendleft([-11, -22])\n",
    "dq.insert(-3, 3)\n",
    "dq.remove(3)\n",
    "\n",
    "# FIFO\n",
    "dq.append(4)\n",
    "dq.popleft()\n",
    "# or\n",
    "dq.appendleft(4)\n",
    "dq.pop()\n",
    "# LIFO\n",
    "dq.append(4)\n",
    "dq.pop()\n",
    "# or\n",
    "dq.appendleft(4)\n",
    "dq.popleft()\n",
    "\n",
    "print(dq)"
   ]
  },
  {
   "cell_type": "markdown",
   "metadata": {},
   "source": [
    "Stack on python"
   ]
  },
  {
   "cell_type": "code",
   "execution_count": 4,
   "metadata": {},
   "outputs": [
    {
     "name": "stdout",
     "output_type": "stream",
     "text": [
      "deque([7, 5])\n",
      "deque([7])\n",
      "deque([7, 11])\n"
     ]
    }
   ],
   "source": [
    "from collections import deque\n",
    "\n",
    "stack = deque()\n",
    "\n",
    "stack.append(7)\n",
    "stack.append(5)\n",
    "print(stack)\n",
    "stack.pop()\n",
    "print(stack)\n",
    "stack.append(11)\n",
    "print(stack)"
   ]
  },
  {
   "cell_type": "markdown",
   "metadata": {},
   "source": [
    "Binary tree"
   ]
  },
  {
   "cell_type": "code",
   "execution_count": 24,
   "metadata": {},
   "outputs": [
    {
     "name": "stdout",
     "output_type": "stream",
     "text": [
      "1\n",
      "2\n",
      "4\n",
      "6\n",
      "7\n",
      "22\n",
      "33\n",
      "44\n",
      "\n",
      "1\n",
      "2\n",
      "4\n",
      "7\n",
      "22\n",
      "33\n",
      "44\n",
      "\n",
      "44 \n",
      "22 \n",
      "1 33 \n",
      "7 \n",
      "4 \n",
      "2 \n"
     ]
    }
   ],
   "source": [
    "class Node:\n",
    "    def __init__(self, data) -> None:\n",
    "        self.data = data\n",
    "        self.left = self.right = None\n",
    "class Tree:\n",
    "    def __init__(self) -> None:\n",
    "        self.root = None\n",
    "        \n",
    "    def __find(self, node, parent, value):\n",
    "        if node is None:\n",
    "            return None, parent, False\n",
    "        if value == node.data:\n",
    "            return node, parent, True\n",
    "        if value < node.data:\n",
    "            if node.left:\n",
    "                return self.__find(node.left, node, value)\n",
    "            \n",
    "        if value > node.data:\n",
    "            if node.right:\n",
    "                return self.__find(node.right, node, value)     \n",
    "         \n",
    "        return node, parent, False\n",
    "                   \n",
    "    def append(self, obj: Node):\n",
    "        if self.root is None:\n",
    "            self.root = obj\n",
    "            return obj\n",
    "        s, p, fl_find = self.__find(self.root, None, obj.data)\n",
    "        if not fl_find and s:\n",
    "            if obj.data < s.data:\n",
    "                s.left = obj\n",
    "            else:\n",
    "                s.right = obj\n",
    "        return obj\n",
    "    def show_tree(self, node):\n",
    "        if node is None:\n",
    "            return\n",
    "        self.show_tree(node.left)\n",
    "        print(node.data)\n",
    "        self.show_tree(node.right)\n",
    "    def show_wide_tree(self, node):\n",
    "        if node is None:\n",
    "            return\n",
    "        lv = [node]\n",
    "        while lv:\n",
    "            l = []\n",
    "            for node in lv:\n",
    "                print(node.data, end=' ')\n",
    "                if node.left:\n",
    "                    l.append(node.left)\n",
    "                if node.right:\n",
    "                    l.append(node.right)\n",
    "            print()\n",
    "            lv = l\n",
    "        \n",
    "    def __del_leaf(self, node, parent):\n",
    "        if node == parent.left:\n",
    "            parent.left = None\n",
    "        elif node == parent.right:\n",
    "            parent.right = None        \n",
    "    \n",
    "    def __del_one_child(self, node, parent):\n",
    "        if node == parent.left:\n",
    "            if node.left is None:\n",
    "                parent.left = node.right\n",
    "            elif node.right is None:\n",
    "                parent.right = node.right      \n",
    "        elif node == parent.right:\n",
    "            if node.left is None:\n",
    "                parent.right = node.right\n",
    "            elif node.right is None:\n",
    "                parent.right = node.right   \n",
    "                \n",
    "    def __find_min(self, node, parent):\n",
    "        if node.left:\n",
    "            return self.__find_min(node.left, node)\n",
    "        else:\n",
    "            return node, parent\n",
    "        \n",
    "                                \n",
    "    def del_node(self, value):\n",
    "        s, p, fl_find = self.__find(self.root, None, value)\n",
    "        if not fl_find:\n",
    "            return None\n",
    "        if s.left is None and s.right is None:\n",
    "            self.__del_leaf(s, p)      \n",
    "        elif s.left is None or s.right is None:\n",
    "            self.__del_one_child(s, p)\n",
    "        elif s.left is not None and s.right is not None:\n",
    "            sr, pr = self.__find_min(s.right, s)\n",
    "            s.data = sr.data\n",
    "            self.__del_one_child(sr, pr)\n",
    "        \n",
    "        \n",
    "v = [44, 22, 1, 6, 4, 2, 7, 33]\n",
    "\n",
    "tree = Tree()\n",
    "for el in v:\n",
    "    tree.append(Node(el))\n",
    "tree.show_tree(tree.root)\n",
    "tree.del_node(6)\n",
    "print()\n",
    "tree.show_tree(tree.root)\n",
    "print()\n",
    "tree.show_wide_tree(tree.root)"
   ]
  },
  {
   "cell_type": "markdown",
   "metadata": {},
   "source": [
    "Прямой поиск подстроки в строке  \n",
    "имеет сложность O(n * m)"
   ]
  },
  {
   "cell_type": "code",
   "execution_count": 8,
   "metadata": {},
   "outputs": [
    {
     "data": {
      "text/plain": [
       "9"
      ]
     },
     "execution_count": 8,
     "metadata": {},
     "output_type": "execute_result"
    }
   ],
   "source": [
    "s = 'in this ddaya'\n",
    "sf = 'day'\n",
    "match = 0\n",
    "start = -1\n",
    "for i in range(len(s) - len(sf) + 1):\n",
    "    for j in range(len(sf)):\n",
    "        if s[i+j] != sf[j]:\n",
    "            break\n",
    "    else:\n",
    "        match = 1\n",
    "    if match == 1:\n",
    "        start = i\n",
    "        break\n",
    "start"
   ]
  },
  {
   "cell_type": "markdown",
   "metadata": {},
   "source": [
    "Алгоритм Рабина Карпа"
   ]
  },
  {
   "cell_type": "markdown",
   "metadata": {},
   "source": [
    "Суть простая,  мы считаем хэш патерна и участка строки размером с патерн и сравниваем хэши,  \n",
    "хэши можно считать через систему счисления размером с алфавит  \n",
    "если хэши не совпали, то смещаемся в тексте на одни символ и повторяем  \n",
    "по сути это обычный поиск перебором, но за счет хэшей, мы ускоряемся, так как не нужно сравнивать поэлементно,  \n",
    "если хэши не совпали  "
   ]
  },
  {
   "cell_type": "code",
   "execution_count": 49,
   "metadata": {},
   "outputs": [
    {
     "data": {
      "text/plain": [
       "[0, 4, 11]"
      ]
     },
     "execution_count": 49,
     "metadata": {},
     "output_type": "execute_result"
    }
   ],
   "source": [
    "# Подходит для небольшого алфавита  \n",
    "# Нумеруем все буквы числами\n",
    "# если букв больше 9, то можно использовать шестнадцатиричные числа, чтобы меньше переполнять память,  \n",
    "# так как если мы будем увеличивать код числа дальше после 9, то у нас будет основание расти и будет возводиться в степерь и будет переполнение  \n",
    "d = {'a': 1, 'b': 2, 'c': 3, 'd': 4, ' ': 1}\n",
    "base = 5\n",
    "# hash(list) = d[list[0]] * base ^ (n-1) + d[list[1]] * base ^ (n-2) + ... + d[list[n-1]] * base ^ 0\n",
    "def my_hash(l, d):\n",
    "    base = len(d)\n",
    "    res = 0\n",
    "    n = len(l)\n",
    "    for i in range(n):\n",
    "        res += d[l[i]] * base ** (n-1-i)\n",
    "    return res\n",
    "text = 'abc abcad dabcb'\n",
    "pattern = 'abc'\n",
    "text_n = len(text)\n",
    "pattern_n = len(pattern)\n",
    "pattern_hash = my_hash(pattern, d)\n",
    "find = []\n",
    "for i in range(text_n):\n",
    "    text_for_compare = text[i:i+pattern_n]\n",
    "    if my_hash(text_for_compare, d) != pattern_hash:\n",
    "        continue\n",
    "    else:\n",
    "        for j in range(pattern_n):\n",
    "            if text[i + j] != pattern[j]:\n",
    "                break\n",
    "        else:\n",
    "            find.append(i)\n",
    "find"
   ]
  },
  {
   "cell_type": "markdown",
   "metadata": {},
   "source": [
    "Алгоритм Кнута-Морриса-Пратта (КМП-алгоритм)  \n",
    "поиск подстроки в строке "
   ]
  },
  {
   "cell_type": "code",
   "execution_count": 23,
   "metadata": {},
   "outputs": [
    {
     "data": {
      "text/plain": [
       "1"
      ]
     },
     "execution_count": 23,
     "metadata": {},
     "output_type": "execute_result"
    }
   ],
   "source": [
    "# сначала найдем массив суффиксов\n",
    "s = 'бобо'\n",
    "j = 0\n",
    "i =1\n",
    "res = [0] * len(s)\n",
    "while i < len(s):\n",
    "    if s[j] != s[i]:\n",
    "        if j == 0:\n",
    "            res[i] = 0\n",
    "            i += 1\n",
    "        else:\n",
    "# это самое сложное место\n",
    "# это гениальное решение авторов алгоритма,\n",
    "# если у нас есть совпадения суфикса и префикса\n",
    "# и на каком то символе совпадение заканчивается, \n",
    "# то мы i не изменяем, так как нужно будет продолжить сравнение с этого символа\n",
    "# а j устанавливаем на место, где было начало совпадения префикса для текущей позиции j, \n",
    "# то есть если у нас сейчас j = 2, то нам нужно взять из нашего результирующего массива\n",
    "# значнеие по индексу j - 1, там как раз хранится длинна префикса           \n",
    "            j = res[j - 1]\n",
    "    else:\n",
    "        res[i] = j + 1\n",
    "        j += 1\n",
    "        i += 1\n",
    "s1 = 'дом лес озеро небобобо'   \n",
    "i = 0\n",
    "j = 0\n",
    "find = 0\n",
    "while i < len(s1):\n",
    "    if s1[i] == s[j]:\n",
    "        i += 1\n",
    "        j += 1\n",
    "        if j == len(s):\n",
    "            find = 1\n",
    "            break\n",
    "    else:\n",
    "        if j > 0:\n",
    "            j = res[j-1]\n",
    "        else:\n",
    "            i += 1\n",
    "find\n",
    "    \n",
    "    \n",
    "    \n",
    "    \n",
    "    "
   ]
  },
  {
   "cell_type": "markdown",
   "metadata": {},
   "source": [
    "Алгоритм Бойера-Мура-Хорспула  \n",
    "поиск подстроки в строке "
   ]
  },
  {
   "cell_type": "code",
   "execution_count": 9,
   "metadata": {},
   "outputs": [
    {
     "data": {
      "text/plain": [
       "{'ы': 1, 'н': 2, 'а': 4, 'д': 5, 'е': 6, '*': 6}"
      ]
     },
     "execution_count": 9,
     "metadata": {},
     "output_type": "execute_result"
    }
   ],
   "source": [
    "s = 'большие метеоданные'\n",
    "a = 'данные'\n",
    "inv_a = a[::-1]\n",
    "indx = dict()\n",
    "for i in range(1, len(inv_a)):\n",
    "    if inv_a[i] not in indx:\n",
    "        indx[inv_a[i]] = i\n",
    "if a[-1] not in indx:\n",
    "    indx[a[-1]] = len(a)\n",
    "indx['*'] = len(a)\n",
    "            \n",
    "indx"
   ]
  },
  {
   "cell_type": "code",
   "execution_count": 10,
   "metadata": {},
   "outputs": [
    {
     "data": {
      "text/plain": [
       "1"
      ]
     },
     "execution_count": 10,
     "metadata": {},
     "output_type": "execute_result"
    }
   ],
   "source": [
    "cur = len(a) - 1\n",
    "find = 0\n",
    "while cur < len(s):\n",
    "    j = len(a) - 1\n",
    "    i = cur\n",
    "    while j >= 0:\n",
    "        if s[i] != a[j]:\n",
    "            if j == len(s):\n",
    "                cur += indx['*']\n",
    "            else:\n",
    "                cur += indx[a[j]]\n",
    "            break\n",
    "        else:\n",
    "            if j == 0:\n",
    "                find = 1\n",
    "                break\n",
    "            else:\n",
    "                j -= 1\n",
    "                i -= 1\n",
    "    if find:\n",
    "        break\n",
    "find            \n",
    "        \n"
   ]
  },
  {
   "cell_type": "markdown",
   "metadata": {},
   "source": [
    "Алгоритм Дейкстры"
   ]
  },
  {
   "cell_type": "code",
   "execution_count": 84,
   "metadata": {},
   "outputs": [
    {
     "name": "stdout",
     "output_type": "stream",
     "text": [
      "[1, 0, 0, 0, 0, 0]\n",
      "[inf  3.  1.  3. inf inf]\n",
      "[ 0.  3.  1.  3. inf inf]\n",
      "2\n",
      "[1, 0, 1, 0, 0, 0]\n",
      "[inf  3. inf  3.  8.  6.]\n",
      "[0. 3. 1. 3. 8. 6.]\n",
      "1\n",
      "[1, 1, 1, 0, 0, 0]\n",
      "[inf inf inf  3.  8.  6.]\n",
      "[0. 3. 1. 3. 8. 6.]\n",
      "3\n",
      "[1, 1, 1, 1, 0, 0]\n",
      "[inf inf inf inf  8.  5.]\n",
      "[0. 3. 1. 3. 8. 5.]\n",
      "5\n",
      "[1, 1, 1, 1, 0, 1]\n",
      "[inf inf inf inf  8. inf]\n",
      "[0. 3. 1. 3. 8. 5.]\n",
      "4\n"
     ]
    }
   ],
   "source": [
    "import numpy as np\n",
    "d = np.array(((0, 3, 1, 3, 0, 0), \n",
    "     (3, 0, 4, 0, 0, 0), \n",
    "     (1, 4, 0, 0, 7, 5), \n",
    "     (3, 0, 0, 0, 0, 2), \n",
    "     (0, 0, 7, 0, 0, 4), \n",
    "     (0, 0, 5, 2, 4, 0))\n",
    ")\n",
    "\n",
    "n = len(d)\n",
    "t = np.array([np.inf]*n)\n",
    "step = [0, ] * n\n",
    "i = 0\n",
    "t[i] = 0\n",
    "my_i = 0\n",
    "step[i] = 1\n",
    "while not all(step):\n",
    "     temp = np.array([x if x != 0 else np.inf for x in d[i]])\n",
    "     temp += t[i]\n",
    "     t = np.min([t, temp], axis=0)   \n",
    "     find = 0\n",
    "     temp = t.copy()\n",
    "     while not find:\n",
    "          i = temp.argmin()\n",
    "          if step[i]:\n",
    "               temp[i] = np.inf\n",
    "          else:\n",
    "               find = 1\n",
    "     print(step)\n",
    "     print(temp)\n",
    "     print(t)\n",
    "     print(i)\n",
    "     step[i] = 1\n",
    "     "
   ]
  },
  {
   "cell_type": "markdown",
   "metadata": {},
   "source": [
    "Алгоритм Флойда"
   ]
  },
  {
   "cell_type": "code",
   "execution_count": 2,
   "metadata": {},
   "outputs": [
    {
     "name": "stdout",
     "output_type": "stream",
     "text": [
      "[[0 1 1 3 4 4 4 4]\n",
      " [0 1 2 0 0 0 0 2]\n",
      " [1 1 2 1 1 7 7 7]\n",
      " [0 0 0 3 0 0 0 7]\n",
      " [0 0 0 0 4 5 5 5]\n",
      " [4 4 6 4 4 5 6 6]\n",
      " [5 5 7 5 5 5 6 7]\n",
      " [6 2 2 3 6 6 6 7]]\n"
     ]
    },
    {
     "data": {
      "text/plain": [
       "[0, 4, 5, 6, 7]"
      ]
     },
     "execution_count": 2,
     "metadata": {},
     "output_type": "execute_result"
    }
   ],
   "source": [
    "import numpy as np\n",
    "\n",
    "def find_path(p, start, end):\n",
    "    path = [start]\n",
    "    next_vertex = start\n",
    "    while next_vertex != end:\n",
    "        next_vertex = p[next_vertex, end]\n",
    "        path.append(next_vertex)\n",
    "    return path\n",
    "    \n",
    "        \n",
    "\n",
    "d = np.array((\n",
    "    (0, 2, np.inf, 3, 1, np.inf, np.inf, 10),\n",
    "    (2, 0, 4, np.inf, np.inf, np.inf, np.inf, np.inf),\n",
    "    (np.inf, 4, 0, np.inf, np.inf, np.inf, np.inf, 3),\n",
    "    (3, np.inf, np.inf, 0, np.inf, np.inf, np.inf, 8), \n",
    "    (1, np.inf, np.inf, np.inf, 0, 2, np.inf, np.inf),\n",
    "    (np.inf, np.inf, np.inf, np.inf, 2, 0, 3, np.inf),\n",
    "    (np.inf, np.inf, np.inf, np.inf, np.inf, 3, 0, 1),\n",
    "    (10, np.inf, 3, 8, np.inf, np.inf, 1, 0)\n",
    "))\n",
    "n = len(d)\n",
    "p = np.array([[j for j in range(n)] for i in range(n)])\n",
    "for k in range(n):   \n",
    "    for i in range(n):\n",
    "        for j in range(n):\n",
    "            v = d[i][k] + d[k][j]\n",
    "            if v < d[i][j]:\n",
    "                d[i][j] = v\n",
    "                p[i][j] = p[i][k]\n",
    "print(p)                \n",
    "find_path(p, 0, 7)"
   ]
  },
  {
   "cell_type": "markdown",
   "metadata": {},
   "source": [
    "Алгоритм Форда-Фалкерсона"
   ]
  },
  {
   "cell_type": "code",
   "execution_count": null,
   "metadata": {},
   "outputs": [],
   "source": [
    "import math\n",
    "\n",
    "\n",
    "def get_max_vertex(k, V, S):\n",
    "    m = 0   # наименьшее допустимое значение\n",
    "    v = -1\n",
    "    for i, w in enumerate(V[k]):\n",
    "        if i in S:\n",
    "            continue\n",
    "\n",
    "        if w[2] == 1:   # движение по стрелке\n",
    "            if m < w[0]:\n",
    "                m = w[0]\n",
    "                v = i\n",
    "        else:           # движение против стрелки\n",
    "            if m < w[1]:\n",
    "                m = w[1]\n",
    "                v = i\n",
    "\n",
    "    return v\n",
    "\n",
    "\n",
    "def get_max_flow(T):\n",
    "    w = [x[0] for x in T]\n",
    "    return min(*w)\n",
    "\n",
    "\n",
    "def updateV(V, T, f):\n",
    "    for t in T:\n",
    "        if t[1] == -1:  # это исток\n",
    "            continue\n",
    "\n",
    "        sgn = V[t[2]][t[1]][2]  # направление движения\n",
    "\n",
    "        # меняем веса в таблице для (i,j) и (j,i)\n",
    "        V[t[1]][t[2]][0] -= f * sgn\n",
    "        V[t[1]][t[2]][1] += f * sgn\n",
    "\n",
    "        V[t[2]][t[1]][0] -= f * sgn\n",
    "        V[t[2]][t[1]][1] += f * sgn\n",
    "\n",
    "\n",
    "V = [[[0,0,1], [20,0,1], [30,0,1], [10,0,1], [0,0,1]],\n",
    "     [[20,0,-1], [0,0,1], [40,0,1], [0,0,1], [30,0,1]],\n",
    "     [[30,0,-1], [40,0,-1], [0,0,1], [10,0,1], [20,0,1]],\n",
    "     [[10,0,-1], [0,0,1], [10,0,-1], [0,0,1], [20,0,1]],\n",
    "     [[0,0,1], [30,0,-1], [20,0,-1], [20,0,-1], [0,0,1]],\n",
    "]\n",
    "\n",
    "N = len(V)  # число вершин в графе\n",
    "init = 0    # вершина истока (нумерация с нуля)\n",
    "end = 4     # вершина стока\n",
    "Tinit = (math.inf, -1, init)      # первая метка маршруто (a, from, vertex)\n",
    "f = []      # максимальные потоки найденных маршрутов\n",
    "\n",
    "j = init\n",
    "while j != -1:\n",
    "    k = init  # стартовая вершина (нумерация с нуля)\n",
    "    T = [Tinit]  # метки маршрута\n",
    "    S = {init}  # множество просмотренных вершин\n",
    "\n",
    "    while k != end:     # пока не дошли до стока\n",
    "        j = get_max_vertex(k, V, S)  # выбираем вершину с наибольшей пропускной способностью\n",
    "        if j == -1:         # если следующих вершин нет\n",
    "            if k == init:      # и мы на истоке, то\n",
    "                break          # завершаем поиск маршрутов\n",
    "            else:           # иначе, переходим к предыдущей вершине\n",
    "                k = T.pop()[2]\n",
    "                continue\n",
    "\n",
    "        c = V[k][j][0] if V[k][j][2] == 1 else V[k][j][1]   # определяем текущий поток\n",
    "        T.append((c, j, k))    # добавляем метку маршрута\n",
    "        S.add(j)            # запоминаем вершину как просмотренную\n",
    "\n",
    "        if j == end:    # если дошди до стока\n",
    "            f.append(get_max_flow(T))     # находим максимальную пропускную способность маршрута\n",
    "            updateV(V, T, f[-1])        # обновляем веса дуг\n",
    "            break\n",
    "\n",
    "        k = j\n",
    "\n",
    "F = sum(f)\n",
    "print(f\"Максимальный поток равен: {F}\")"
   ]
  },
  {
   "cell_type": "markdown",
   "metadata": {},
   "source": [
    "Алгоритм Краскала"
   ]
  },
  {
   "cell_type": "markdown",
   "metadata": {},
   "source": [
    "  1. сортируем ребра по возрастанию  \n",
    "2. перебираем ребра с минимального ребра и соединяем вершины,    \n",
    "которые не участвуют в группах  \n",
    "3. когда не осталось вершина без групп, то перебираем оставшиеся ребра и   \n",
    "и соединяем минимальным ребром несоединенные группы."
   ]
  },
  {
   "cell_type": "markdown",
   "metadata": {},
   "source": [
    "плохой вариант, без словаря  \n",
    "ниже правильный вариант"
   ]
  },
  {
   "cell_type": "code",
   "execution_count": 43,
   "metadata": {},
   "outputs": [
    {
     "name": "stdout",
     "output_type": "stream",
     "text": [
      "used_ribs =  {(17, 1, 4), (19, 4, 6), (14, 1, 5), (3, 3, 4), (13, 1, 2)}\n"
     ]
    }
   ],
   "source": [
    "# список ребер графа (длинаб вершина 1, вершина 2)\n",
    "ribs = [(13, 1, 2), (18, 1, 3), (14, 1, 5), (22, 1, 6), (17, 1, 4)\n",
    "    , (26, 2, 3), (22, 2, 5), (3, 3, 4), (19, 4, 6)]\n",
    "sort_ribs = sorted(ribs, key=lambda x: x[0])\n",
    "used_ribs = set()\n",
    "used_vertex = set()\n",
    "groups = []\n",
    "n_vertex = 6\n",
    "# первый этап ищем группы\n",
    "for r in sort_ribs:\n",
    "    # print('cur rib = ', r)\n",
    "    if r in used_ribs:\n",
    "        continue\n",
    "    if r[1] in used_vertex and r[2] in used_vertex:\n",
    "        continue\n",
    "    used_ribs.add(r)\n",
    "    used_vertex.add(r[1])\n",
    "    used_vertex.add(r[2])\n",
    "    for g in groups:\n",
    "        if r[1] in g:\n",
    "            g.add(r[2])\n",
    "            break\n",
    "        elif r[2] in g:\n",
    "            g.add(r[1])\n",
    "            break\n",
    "    else:               \n",
    "        group = set()\n",
    "        group.add(r[1])\n",
    "        group.add(r[2])\n",
    "        groups.append(group)\n",
    "    # print('used_ribs = ', used_ribs)\n",
    "    # print('groups = ', groups)\n",
    "    # print('---')\n",
    " # второй этап ищем остов (соединяем группы одним минимальным ребром)   \n",
    "for r in sort_ribs:\n",
    "    if r in used_ribs:\n",
    "        continue    \n",
    "    # print('cur rib = ', r)\n",
    "    used_ribs.add(r)\n",
    "    new_group = set()\n",
    "    index_for_delete_group = []\n",
    "    for i, g in enumerate(groups):\n",
    "        if r[1] in g and r[2] in g:\n",
    "            break\n",
    "        else:\n",
    "            new_group.update(g)\n",
    "            # print('g = ', g)\n",
    "            # print('new_group = ', new_group)  \n",
    "            index_for_delete_group.append(i)\n",
    "    if len(new_group) == n_vertex:\n",
    "        break            \n",
    "    # print('index_for_delete_group = ', index_for_delete_group)            \n",
    "    del groups[index_for_delete_group[0]]            \n",
    "    del groups[index_for_delete_group[1] - 1]            \n",
    "    groups.append(new_group)      \n",
    "    # print('groups = ', groups)\n",
    "print('used_ribs = ', used_ribs)\n",
    "    \n",
    "    "
   ]
  },
  {
   "cell_type": "markdown",
   "metadata": {},
   "source": [
    "вариант со словарем"
   ]
  },
  {
   "cell_type": "code",
   "execution_count": 3,
   "metadata": {},
   "outputs": [
    {
     "data": {
      "text/plain": [
       "[(3, 3, 4), (13, 1, 2), (14, 1, 5), (19, 4, 6), (17, 1, 4)]"
      ]
     },
     "execution_count": 3,
     "metadata": {},
     "output_type": "execute_result"
    }
   ],
   "source": [
    "# список ребер графа (длинаб вершина 1, вершина 2)\n",
    "ribs = [(13, 1, 2), (18, 1, 3), (14, 1, 5), (22, 1, 6), (17, 1, 4)\n",
    "    , (26, 2, 3), (22, 2, 5), (3, 3, 4), (19, 4, 6)]\n",
    "sort_ribs = sorted(ribs, key=lambda x: x[0])\n",
    "used_ribs = []\n",
    "groups = {}\n",
    "# первый этап ищем группы\n",
    "for r in sort_ribs:\n",
    "    if r[1] not in groups or r[2] not in groups:\n",
    "        if r[1] not in groups and r[2] not in groups:\n",
    "            groups[r[1]] = {r[1], r[2]}\n",
    "            groups[r[2]] = groups[r[1]]\n",
    "        else:\n",
    "            if r[1] not in groups:\n",
    "                groups[r[2]].add(r[1])\n",
    "                groups[r[1]] = groups[r[2]]\n",
    "            if r[2] not in groups:\n",
    "                groups[r[1]].add(r[2])\n",
    "                groups[r[2]] = groups[r[1]]                \n",
    "        used_ribs.append(r)              \n",
    "        \n",
    "  # второй этап ищем остов (соединяем группы одним минимальным ребром)  \n",
    "  \n",
    "for r in sort_ribs:         \n",
    "    if r[1] not in groups[r[2]]:\n",
    "        groups[r[2]].update(groups[r[1]])\n",
    "        groups[r[1]] = groups[r[2]]\n",
    "        used_ribs.append(r)   \n",
    "used_ribs            \n",
    "        \n",
    "        \n",
    "        \n",
    "        "
   ]
  },
  {
   "cell_type": "markdown",
   "metadata": {},
   "source": [
    "Алгоритм Прима (ближайшего соседа)"
   ]
  },
  {
   "cell_type": "code",
   "execution_count": 1,
   "metadata": {},
   "outputs": [
    {
     "data": {
      "text/plain": [
       "[(13, 1, 2), (14, 1, 5), (17, 1, 4), (18, 1, 3), (22, 1, 6)]"
      ]
     },
     "execution_count": 1,
     "metadata": {},
     "output_type": "execute_result"
    }
   ],
   "source": [
    "import numpy as np\n",
    "\n",
    "def get_min_rib(ribs, used_vertex):\n",
    "    min_rib = (np.inf, -1, -1)\n",
    "    for v in used_vertex:\n",
    "        cur_min_rib = min(ribs, key= lambda x: x[0] if (v == x[1] or v == x[2]) and (x[1] not in used_vertex or x[2] not in used_vertex) else np.inf)\n",
    "        # print('v = ', v)\n",
    "        # print('nim_rib = ', min_rib)\n",
    "        # print('cur_min_rib = ', cur_min_rib)\n",
    "        if cur_min_rib[0] < min_rib[0]:\n",
    "            min_rib = cur_min_rib\n",
    "\n",
    "    return min_rib\n",
    "\n",
    "ribs = [(np.inf, -1, -1), (13, 1, 2), (18, 1, 3), (17, 1, 4), (14, 1, 5), (22, 1, 6),\n",
    "     (26, 2, 3), (19, 2, 5), (30, 3, 4), (22, 4, 6)]\n",
    "n = 6\n",
    "used_vertex = {1}\n",
    "used_ribs = []\n",
    "\n",
    "while len(used_vertex) < n:\n",
    "    min_rib = get_min_rib(ribs, used_vertex)          \n",
    "    if min_rib[0] == np.inf:\n",
    "        break\n",
    "    used_vertex.add(min_rib[1])\n",
    "    used_vertex.add(min_rib[2])\n",
    "    used_ribs.append(min_rib)\n",
    "used_ribs    "
   ]
  },
  {
   "cell_type": "markdown",
   "metadata": {},
   "source": [
    "Сортировка выбором (сложность = О(n*n))"
   ]
  },
  {
   "cell_type": "code",
   "execution_count": 5,
   "metadata": {},
   "outputs": [
    {
     "data": {
      "text/plain": [
       "[-9, -3, -2, 0, 1, 4, 8]"
      ]
     },
     "execution_count": 5,
     "metadata": {},
     "output_type": "execute_result"
    }
   ],
   "source": [
    "l = [8, -2, 1, 0, -3, 4, -9]\n",
    "len_ = len(l)\n",
    "for i in range(len_-1):\n",
    "    min_el = l[i]\n",
    "    min_index = i\n",
    "    for j in range(i+1, len_):\n",
    "        if l[j] < min_el:\n",
    "            min_el = l[j]\n",
    "            min_index = j\n",
    "    if min_index != i:\n",
    "        l[i], l[min_index] = l[min_index], l[i]\n",
    "        \n",
    "l        "
   ]
  },
  {
   "cell_type": "markdown",
   "metadata": {},
   "source": [
    "Сортировка вставками"
   ]
  },
  {
   "cell_type": "code",
   "execution_count": 5,
   "metadata": {},
   "outputs": [
    {
     "data": {
      "text/plain": [
       "[-9, -3, -2, 0, 1, 4, 8]"
      ]
     },
     "execution_count": 5,
     "metadata": {},
     "output_type": "execute_result"
    }
   ],
   "source": [
    "l = [8, -2, 1, 0, -3, 4, -9]\n",
    "n =len(l)\n",
    "for i in range(1, n):\n",
    "    for j in range(i, 0, -1):\n",
    "        if l[j-1] > l[j]:\n",
    "            l[j-1], l[j] = l[j], l[j-1]\n",
    "        else:\n",
    "            break\n",
    "l            "
   ]
  },
  {
   "cell_type": "markdown",
   "metadata": {},
   "source": [
    "Сортировка пузырьком"
   ]
  },
  {
   "cell_type": "code",
   "execution_count": null,
   "metadata": {},
   "outputs": [],
   "source": [
    "l = [8, -2, 1, 0, -3, 4, -9]\n",
    "n = len(l)\n",
    "for i in range(n-1, -1, -1):\n",
    "    for j in range(i):\n",
    "        if l[j] > l[j+1]:\n",
    "            l[j], l[j+1] = l[j+1], l[j]\n",
    "l            "
   ]
  },
  {
   "cell_type": "markdown",
   "metadata": {},
   "source": [
    "или"
   ]
  },
  {
   "cell_type": "code",
   "execution_count": 5,
   "metadata": {},
   "outputs": [
    {
     "data": {
      "text/plain": [
       "[-9, -3, -2, 0, 1, 4, 8]"
      ]
     },
     "execution_count": 5,
     "metadata": {},
     "output_type": "execute_result"
    }
   ],
   "source": [
    "l = [8, -2, 1, 0, -3, 4, -9]\n",
    "n = len(l)\n",
    "for i in range(n-1):\n",
    "    for j in range(n-i-1):\n",
    "        if l[j] > l[j+1]:\n",
    "            l[j+1], l[j] = l[j], l[j+1]\n",
    "l            "
   ]
  },
  {
   "cell_type": "markdown",
   "metadata": {},
   "source": [
    "Слияние двух упорядоченных списков"
   ]
  },
  {
   "cell_type": "code",
   "execution_count": 16,
   "metadata": {},
   "outputs": [
    {
     "data": {
      "text/plain": [
       "[1, 1, 2, 3, 4, 4, 5, 5, 6, 8, 10, 11, 20]"
      ]
     },
     "execution_count": 16,
     "metadata": {},
     "output_type": "execute_result"
    }
   ],
   "source": [
    "a = [1,2,3,4,5]\n",
    "b = [1,4,5,6,8,10,11,20]\n",
    "N = len(a)\n",
    "M = len(b)\n",
    "i = 0\n",
    "j = 0\n",
    "c = []\n",
    "while i < N and j < M:\n",
    "    if a[i] == b[j]:\n",
    "        c.append(a[i])\n",
    "        c.append(b[j])\n",
    "        i += 1\n",
    "        j += 1\n",
    "    elif a[i] < b[j]:\n",
    "        c.append(a[i])\n",
    "        i += 1\n",
    "    elif a[i] > b[j]:\n",
    "        c.append(b[j])\n",
    "        j += 1        \n",
    "c += b[j:]  \n",
    "c += a[i:]       \n",
    "c "
   ]
  },
  {
   "cell_type": "markdown",
   "metadata": {},
   "source": [
    "Merge sort  \n",
    "Быстрая сортировка слиянием"
   ]
  },
  {
   "cell_type": "code",
   "execution_count": 12,
   "metadata": {},
   "outputs": [
    {
     "data": {
      "text/plain": [
       "[-9, -3, -2, 0, 1, 4, 8]"
      ]
     },
     "execution_count": 12,
     "metadata": {},
     "output_type": "execute_result"
    }
   ],
   "source": [
    "l = [8, -2, 1, 0, -3, 4, -9]\n",
    "\n",
    "def merge_list(a, b):\n",
    "    N = len(a)\n",
    "    M = len(b)\n",
    "    i = 0\n",
    "    j = 0\n",
    "    c = []\n",
    "    while i < N and j < M:\n",
    "        if a[i] == b[j]:\n",
    "            c.append(a[i])\n",
    "            c.append(b[j])\n",
    "            i += 1\n",
    "            j += 1\n",
    "        elif a[i] < b[j]:\n",
    "            c.append(a[i])\n",
    "            i += 1\n",
    "        elif a[i] > b[j]:\n",
    "            c.append(b[j])\n",
    "            j += 1        \n",
    "    c += b[j:]  \n",
    "    c += a[i:]  \n",
    "    return c  \n",
    "\n",
    "def merge_sort(l):\n",
    "    if len(l) == 1:\n",
    "        return l\n",
    "    n = len(l) // 2\n",
    "    l1 = merge_sort(l[:n])\n",
    "    l2 = merge_sort(l[n:])\n",
    "    return merge_list(l1, l2)\n",
    "\n",
    "merge_sort(l)    \n",
    "    \n",
    "    "
   ]
  },
  {
   "cell_type": "markdown",
   "metadata": {},
   "source": [
    "Quick sort   \n",
    "Быстрая сортировка (также Хоара)"
   ]
  },
  {
   "cell_type": "code",
   "execution_count": 5,
   "metadata": {},
   "outputs": [
    {
     "data": {
      "text/plain": [
       "[-9, -3, -2, 0, 1, 4, 8]"
      ]
     },
     "execution_count": 5,
     "metadata": {},
     "output_type": "execute_result"
    }
   ],
   "source": [
    "# используя дополнительные списки\n",
    "import random \n",
    "\n",
    "l = [8, -2, 1, 0, -3, 4, -9]\n",
    "\n",
    "def hoara_sort(l):\n",
    "    len_l = len(l)\n",
    "    if len_l <= 1:\n",
    "        return l\n",
    "    random_el = random.choice(l)\n",
    "    under_el = [el for el in l if el < random_el]\n",
    "    equal_el = [el for el in l if el == random_el]\n",
    "    upper_el = [el for el in l if el > random_el]\n",
    "    return hoara_sort(under_el) + equal_el + hoara_sort(upper_el)\n",
    "\n",
    "hoara_sort(l)"
   ]
  },
  {
   "cell_type": "markdown",
   "metadata": {},
   "source": [
    " - случайно выбираем индекс от левой границы до правой\n",
    "- ставим элемент с этим индексом на левую границу (в начало отрезка)\n",
    "- запоминаем первый элемент в x для удобства\n",
    "- j ставим на левую границу\n",
    "- далее идем от левой границы до правой в цикле по i\n",
    "- если i - й элемент меньше x (первого элемента),  \n",
    "то j увеличиваем на 1 и меняем местами i и j элементы\n",
    "- в конце меняем местами j и left, чтобы наш элемент (с выбранным случайным индексом встал на место)"
   ]
  },
  {
   "cell_type": "code",
   "execution_count": 4,
   "metadata": {},
   "outputs": [
    {
     "data": {
      "text/plain": [
       "[-9, -2, 1, 1, 1, 1, 2]"
      ]
     },
     "execution_count": 4,
     "metadata": {},
     "output_type": "execute_result"
    }
   ],
   "source": [
    "# сортировка на месте\n",
    "# экономит памятЬ, так как не нужно выделять память на новые списки\n",
    "from random import randint\n",
    "\n",
    "l = [-2, 2, 1, 1, 1, 1, -9]\n",
    "\n",
    "def partition(array: list, left: int, right: int) -> int:\n",
    "    rand = randint(left, right)\n",
    "    array[rand], array[left] = array[left], array[rand]\n",
    "    x = array[left]\n",
    "    j = left\n",
    "    for i in range(left + 1, right + 1):\n",
    "        if array[i] <= x: \n",
    "            j += 1\n",
    "            array[j], array[i] = array[i], array[j]\n",
    "    array[left], array[j] = array[j], array[left]\n",
    "    return j\n",
    "\n",
    "\n",
    "def quick_sort_inplace(array: list, left: int, right: int) -> None:\n",
    "    if left < right:\n",
    "        m = partition(array, left, right)\n",
    "        quick_sort_inplace(array, left, m - 1)\n",
    "        quick_sort_inplace(array, m + 1, right)\n",
    "quick_sort_inplace(l, 0, len(l)-1)     \n",
    "l  "
   ]
  },
  {
   "cell_type": "markdown",
   "metadata": {},
   "source": [
    "Проверка правильности последоваетльности скобок  \n",
    "(([])) - верно\n",
    "(([]) - неверно"
   ]
  },
  {
   "cell_type": "code",
   "execution_count": 15,
   "metadata": {},
   "outputs": [
    {
     "name": "stdout",
     "output_type": "stream",
     "text": [
      "Нверно\n"
     ]
    }
   ],
   "source": [
    "s = '(2+5)*([(10+4)]-7)'\n",
    "s_stack = []\n",
    "d = {'(': ')', '[': ']', '{': '}'}\n",
    "keys = d.keys()\n",
    "values = d.values()\n",
    "stop = 0\n",
    "for el in s:\n",
    "    if el in keys:\n",
    "        s_stack.append(el)\n",
    "    elif el in values:\n",
    "        if len(s_stack) == 0:\n",
    "            stop = 1\n",
    "            break          \n",
    "        prev = s_stack.pop()\n",
    "        if el != d[prev]:\n",
    "            stop = 1\n",
    "            break\n",
    "            \n",
    "if stop:\n",
    "    print('Нверно')\n",
    "else:\n",
    "    print('Верно')\n",
    "    "
   ]
  },
  {
   "cell_type": "markdown",
   "metadata": {},
   "source": [
    "Алгоритм бинарного поиска"
   ]
  },
  {
   "cell_type": "code",
   "execution_count": 22,
   "metadata": {},
   "outputs": [
    {
     "data": {
      "text/plain": [
       "-1"
      ]
     },
     "execution_count": 22,
     "metadata": {},
     "output_type": "execute_result"
    }
   ],
   "source": [
    "def bi_sort(l, w, left, right):\n",
    "    middle = (right + left) // 2\n",
    "    if right - left < 2:\n",
    "        return -1\n",
    "    if w == l[middle]:\n",
    "        return middle\n",
    "    if w > l[middle]:\n",
    "        return bi_sort(l, w, middle, right)\n",
    "    else:\n",
    "        return bi_sort(l, w, left, middle)\n",
    "        \n",
    "\n",
    "l = ['acorn', 'apple', 'bite', 'bold', 'cot', 'dull', 'feel', 'fund', 'mine', 'morn']\n",
    "w = 'cite'\n",
    "bi_sort(l, w, 0, len(l)-1)"
   ]
  },
  {
   "cell_type": "code",
   "execution_count": null,
   "metadata": {},
   "outputs": [],
   "source": []
  },
  {
   "cell_type": "code",
   "execution_count": null,
   "metadata": {},
   "outputs": [],
   "source": []
  },
  {
   "cell_type": "code",
   "execution_count": null,
   "metadata": {},
   "outputs": [],
   "source": []
  }
 ],
 "metadata": {
  "kernelspec": {
   "display_name": "Python 3.7.1 64-bit",
   "language": "python",
   "name": "python3"
  },
  "language_info": {
   "codemirror_mode": {
    "name": "ipython",
    "version": 3
   },
   "file_extension": ".py",
   "mimetype": "text/x-python",
   "name": "python",
   "nbconvert_exporter": "python",
   "pygments_lexer": "ipython3",
   "version": "3.7.1"
  },
  "orig_nbformat": 4,
  "vscode": {
   "interpreter": {
    "hash": "fbe58ca63fe33f9eeae9e71d10368d2b4a57f2b1b395836210cc60d362c66949"
   }
  }
 },
 "nbformat": 4,
 "nbformat_minor": 2
}
